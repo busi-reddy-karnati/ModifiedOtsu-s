{
 "cells": [
  {
   "cell_type": "code",
   "execution_count": 2,
   "id": "33115735",
   "metadata": {},
   "outputs": [
    {
     "name": "stdout",
     "output_type": "stream",
     "text": [
      "Requirement already satisfied: pillow in c:\\users\\busis\\anaconda3\\lib\\site-packages (8.4.0)\n",
      "Note: you may need to restart the kernel to use updated packages.\n"
     ]
    }
   ],
   "source": [
    "pip install pillow"
   ]
  },
  {
   "cell_type": "code",
   "execution_count": 3,
   "id": "cf90eb3b",
   "metadata": {},
   "outputs": [],
   "source": [
    "from PIL import Image\n",
    "image = Image.open('images/basket_balls.bmp')"
   ]
  },
  {
   "cell_type": "code",
   "execution_count": 11,
   "id": "c805b41a",
   "metadata": {},
   "outputs": [],
   "source": [
    "import numpy as np"
   ]
  },
  {
   "cell_type": "code",
   "execution_count": null,
   "id": "aaebb007",
   "metadata": {},
   "outputs": [],
   "source": [
    "# load the pixel values of the image\n",
    "pixels = image.load()\n",
    "new_image = []\n",
    "print(\"size is: \", image.size)\n",
    "rows = image.size[0]\n",
    "cols = image.size[1]\n",
    "for i in range(rows):\n",
    "    new_image_row = []\n",
    "    for j in range(cols):\n",
    "        red = pixels[i,j][0]\n",
    "        green = pixels[i,j][1]\n",
    "        blue = pixels[i,j][2]\n",
    "        grey_value = round((0.299*red) + (0.587*green) + (0.114*blue))\n",
    "        new_image_row.append(grey_value)\n",
    "        new_image.append(new_image_row)\n",
    "print(\"Done with change\")\n",
    "new_image_array = np.asarray(new_image)\n",
    "print(new_image_array)\n",
    "new_image_picture = Image.fromarray(new_image_array)\n",
    "new_image_picture.show()        \n",
    "        \n",
    "        "
   ]
  },
  {
   "cell_type": "code",
   "execution_count": 20,
   "id": "b621fe78",
   "metadata": {},
   "outputs": [],
   "source": []
  },
  {
   "cell_type": "code",
   "execution_count": null,
   "id": "9dde25bd",
   "metadata": {},
   "outputs": [],
   "source": []
  }
 ],
 "metadata": {
  "kernelspec": {
   "display_name": "Python 3 (ipykernel)",
   "language": "python",
   "name": "python3"
  },
  "language_info": {
   "codemirror_mode": {
    "name": "ipython",
    "version": 3
   },
   "file_extension": ".py",
   "mimetype": "text/x-python",
   "name": "python",
   "nbconvert_exporter": "python",
   "pygments_lexer": "ipython3",
   "version": "3.9.7"
  }
 },
 "nbformat": 4,
 "nbformat_minor": 5
}
